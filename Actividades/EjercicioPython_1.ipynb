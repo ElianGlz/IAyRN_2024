{
  "nbformat": 4,
  "nbformat_minor": 0,
  "metadata": {
    "colab": {
      "provenance": [],
      "authorship_tag": "ABX9TyNXmDx8hdK+zKaOVIs0Wwg4",
      "include_colab_link": true
    },
    "kernelspec": {
      "name": "python3",
      "display_name": "Python 3"
    },
    "language_info": {
      "name": "python"
    }
  },
  "cells": [
    {
      "cell_type": "markdown",
      "metadata": {
        "id": "view-in-github",
        "colab_type": "text"
      },
      "source": [
        "<a href=\"https://colab.research.google.com/github/ElianGlz/IAyRN_2024/blob/main/EjercicioPython_1.ipynb\" target=\"_parent\"><img src=\"https://colab.research.google.com/assets/colab-badge.svg\" alt=\"Open In Colab\"/></a>"
      ]
    },
    {
      "cell_type": "code",
      "execution_count": 76,
      "metadata": {
        "id": "j0_FC-MavtBl",
        "colab": {
          "base_uri": "https://localhost:8080/"
        },
        "outputId": "bf4a1a69-4196-4f96-bc6c-ae05d21f67e5"
      },
      "outputs": [
        {
          "output_type": "stream",
          "name": "stdout",
          "text": [
            "Bienvenido\n",
            "Por favor ingrese su nombre :Elian\n",
            "Hola  Elian  Como Estas\n"
          ]
        }
      ],
      "source": [
        "#001 Programa que te saluda por tu nombre con algunas excepciones\n",
        "lista = ('Ana','ana','ANA','Juan','juan','JUAN','Pedro','pedro','PEDRO')\n",
        "print(\"Bienvenido\")\n",
        "A= input(\"Por favor ingrese su nombre :\")\n",
        "encontrado = False\n",
        "for elemento in lista:\n",
        "  if A == elemento:\n",
        "    encontrado = True\n",
        "    break\n",
        "if encontrado:\n",
        "  print(\"Ahh orale\")\n",
        "else:\n",
        "  print(\"Hola \",A,\" Como Estas\")"
      ]
    },
    {
      "cell_type": "code",
      "source": [
        "#002 generador de lista Alreves\n",
        "lista = []\n",
        "\n",
        "print(\"Bienvenido a creador de listas\")\n",
        "N=input(\"Cuantos elementos desea en su lista?\")\n",
        "N= int(N)\n",
        "for i in range(N):\n",
        "  b=input('Elemento  ')\n",
        "  b=int(b)\n",
        "  lista.append(b)\n",
        "for item in reversed(lista):\n",
        " print(item)\n"
      ],
      "metadata": {
        "colab": {
          "base_uri": "https://localhost:8080/"
        },
        "id": "Ql5bvzeM4cYY",
        "outputId": "4026bdf5-7759-4ab7-9f82-ee55acca6725"
      },
      "execution_count": 75,
      "outputs": [
        {
          "output_type": "stream",
          "name": "stdout",
          "text": [
            "Bienvenido a creador de listas\n",
            "Cuantos elementos desea en su lista?2\n",
            "Elemento  1\n",
            "Elemento  2\n",
            "2\n",
            "1\n"
          ]
        }
      ]
    },
    {
      "cell_type": "code",
      "source": [
        "#003 Generador de serie de Fibonacci\n",
        "print(\"Bienvenido al Generador de Serie de Fibonacci \")\n",
        "Elementos = int(input(\"Cuantos elementos desea generar? \"))\n",
        "N1,N2 = 0, 1\n",
        "counter = 0\n",
        "\n",
        "if Elementos <= 0:\n",
        "  print(\"Ingrese Valores Positivos Enteros\")\n",
        "elif Elementos == 1:\n",
        "  print(\"La Serie Fibonacci Desde \",Elementos, \":\")\n",
        "  print(N1)\n",
        "else:\n",
        "  print(\"Generando su Serie de Fibonacci\")\n",
        "  while counter < Elementos:\n",
        "      print(N1)\n",
        "      Res = N1 + N2\n",
        "      N1 = N2\n",
        "      N2 = Res\n",
        "      counter += 1"
      ],
      "metadata": {
        "colab": {
          "base_uri": "https://localhost:8080/"
        },
        "id": "FJ9qaNSTMY7f",
        "outputId": "ba13b43c-26e6-4ce9-ec88-ed8eb6ff552a"
      },
      "execution_count": 74,
      "outputs": [
        {
          "output_type": "stream",
          "name": "stdout",
          "text": [
            "Bienvenido al Generador de Serie de Fibonacci \n",
            "Cuantos elementos desea generar? 3\n",
            "Generando su Serie de Fibonacci\n",
            "0\n",
            "1\n",
            "1\n"
          ]
        }
      ]
    },
    {
      "cell_type": "code",
      "source": [
        "#004 Adivina el Numero\n",
        "import random\n",
        "a= random.randint(1,100)\n",
        "b= random.randint(1,10)\n",
        "c= random.randint(1,10)\n",
        "print(\"Bienvenido a Adivine el Numero\")\n",
        "Count= 1\n",
        "val1=a+b\n",
        "val2=a-c\n",
        "print(\"El Numero es Menor que \",val1)\n",
        "print(\"Ademas es mayor a \", val2)\n",
        "while X != a:\n",
        "  print(\"Intento #\",Count)\n",
        "  X=int(input(\"Adivine el numero del 1 al 100 \"))\n",
        "\n",
        "  if X==a:\n",
        "    print(\"CORRECTO ADIVINASTE\")\n",
        "  else:\n",
        "    print(\"Incorrecto\")\n",
        "    Count += 1"
      ],
      "metadata": {
        "colab": {
          "base_uri": "https://localhost:8080/"
        },
        "id": "nFpCNO9mWhfS",
        "outputId": "e8915bf7-2885-44af-90da-449a46bbdea9"
      },
      "execution_count": 73,
      "outputs": [
        {
          "output_type": "stream",
          "name": "stdout",
          "text": [
            "Bienvenido a Adivine el Numero\n",
            "El Numero es Menor que  26\n",
            "Ademas es mayor a  20\n",
            "Intento # 1\n",
            "Adivine el numero del 1 al 100 21\n",
            "Incorrecto\n",
            "Intento # 2\n",
            "Adivine el numero del 1 al 100 22\n",
            "Incorrecto\n",
            "Intento # 3\n",
            "Adivine el numero del 1 al 100 23\n",
            "Incorrecto\n",
            "Intento # 4\n",
            "Adivine el numero del 1 al 100 24\n",
            "CORRECTO ADIVINASTE\n"
          ]
        }
      ]
    },
    {
      "cell_type": "code",
      "source": [
        "#005 Calculador de Numeros Primos\n",
        "def primo(numero):\n",
        "    if numero <= 1:\n",
        "        return False\n",
        "    if numero <= 3:\n",
        "        return True\n",
        "    if numero % 2 == 0 or numero % 3 == 0:\n",
        "        return False\n",
        "    i = 5\n",
        "    while i * i <= numero:\n",
        "        if numero % i == 0 or numero % (i + 2) == 0:\n",
        "            return False\n",
        "        i += 6\n",
        "    return True\n",
        "print(\"Bienvenido \")\n",
        "inicio = int(input(\"Ingrese el número inicial del rango: \"))\n",
        "fin = int(input(\"Ingrese el número final del rango: \"))\n",
        "\n",
        "print(f\"Los números primos entre {inicio} y {fin} son:\")\n",
        "\n",
        "\n",
        "for num in range(inicio, fin + 1):\n",
        "    if primo(num):\n",
        "        print(num)"
      ],
      "metadata": {
        "colab": {
          "base_uri": "https://localhost:8080/"
        },
        "id": "R9ZGLenVgHnm",
        "outputId": "d10f3b21-c636-4a42-867c-87785c40e558"
      },
      "execution_count": 71,
      "outputs": [
        {
          "output_type": "stream",
          "name": "stdout",
          "text": [
            "Bienvenido \n",
            "Ingrese el número inicial del rango: 1\n",
            "Ingrese el número final del rango: 3\n",
            "Los números primos entre 1 y 3 son:\n",
            "2\n",
            "3\n"
          ]
        }
      ]
    },
    {
      "cell_type": "code",
      "source": [
        "#006 Calculadora Basica\n",
        "print(\"Bienvenido a PythonLator\")\n",
        "X=int(input(\"Ingrese el primer Valor :\"))\n",
        "Y=int(input(\"Ingrese el segundo Valor :\"))\n",
        "\n",
        "A=int(input(\"Que operacion desea utilizar : 1=SUMA 2=RESTA 3=Multiplicacion 4=Division :\"))\n",
        "\n",
        "if A == 1:\n",
        "  Res=X+Y\n",
        "  print(f\"La suma entre {X} y {Y} es igual a\",Res)\n",
        "elif A == 2:\n",
        "  Res = X-Y\n",
        "  print(f\"La Resta entre {X} y {Y} es igual a\",Res)\n",
        "elif A == 3:\n",
        "  Res = X * Y\n",
        "  print(f\"La Multiplicacion entre {X} y {Y} es igual a\",Res)\n",
        "elif A == 4:\n",
        "  Res = X/Y\n",
        "  print(f\"La Division entre {X} y {Y} es igual a\",Res)\n",
        "else:\n",
        "  print(\"Ingrese Operacion Correcta\")\n",
        "\n",
        "\n",
        "\n",
        "\n"
      ],
      "metadata": {
        "colab": {
          "base_uri": "https://localhost:8080/"
        },
        "id": "xQrff6FglgPW",
        "outputId": "ad845b7b-cd4e-4d45-e895-caf1ebf4fc4e"
      },
      "execution_count": 72,
      "outputs": [
        {
          "output_type": "stream",
          "name": "stdout",
          "text": [
            "Bienvenido a PythonLator\n",
            "Ingrese el primer Valor :2\n",
            "Ingrese el segundo Valor :2\n",
            "Que operacion desea utilizar : 1=SUMA 2=RESTA 3=Multiplicacion 4=Division :2\n",
            "La Resta entre 2 y 2 es igual a 0\n"
          ]
        }
      ]
    }
  ]
}
