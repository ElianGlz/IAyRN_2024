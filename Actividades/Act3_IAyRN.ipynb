{
  "nbformat": 4,
  "nbformat_minor": 0,
  "metadata": {
    "colab": {
      "provenance": [],
      "authorship_tag": "ABX9TyMxoAv35hewOBquUeFEqbkh",
      "include_colab_link": true
    },
    "kernelspec": {
      "name": "python3",
      "display_name": "Python 3"
    },
    "language_info": {
      "name": "python"
    }
  },
  "cells": [
    {
      "cell_type": "markdown",
      "metadata": {
        "id": "view-in-github",
        "colab_type": "text"
      },
      "source": [
        "<a href=\"https://colab.research.google.com/github/ElianGlz/IAyRN_2024/blob/main/Act3_IAyRN.ipynb\" target=\"_parent\"><img src=\"https://colab.research.google.com/assets/colab-badge.svg\" alt=\"Open In Colab\"/></a>"
      ]
    },
    {
      "cell_type": "code",
      "source": [
        "#ACT3 REGRESION LINEAL\n",
        "#ELIAN ISAC GONZALEZ LOPEZ\n",
        "#2082426\n",
        "#N4"
      ],
      "metadata": {
        "id": "aJ1U5gqTQZFj"
      },
      "execution_count": null,
      "outputs": []
    },
    {
      "cell_type": "code",
      "execution_count": 1,
      "metadata": {
        "id": "l_Ug6MBZgO18"
      },
      "outputs": [],
      "source": [
        "# Librerías a utilizar\n",
        "import matplotlib\n",
        "import matplotlib.pyplot as plt # generar gráficos\n",
        "import numpy as np # generar arreglos\n",
        "import pandas as pd # cargar conjuntos de datos externos\n",
        "import sklearn.linear_model # contiene diferentes modelos de ML\n"
      ]
    },
    {
      "cell_type": "code",
      "source": [
        "np.random.seed(0)\n",
        "horas_estudio = np.random.rand(100, 1) *10\n",
        "calificaciones = 2 * horas_estudio + np.random.randn(100,1) * 2"
      ],
      "metadata": {
        "id": "B2e-ns7dgYj4"
      },
      "execution_count": 2,
      "outputs": []
    },
    {
      "cell_type": "code",
      "source": [
        "calificaciones"
      ],
      "metadata": {
        "colab": {
          "base_uri": "https://localhost:8080/"
        },
        "id": "9Aw7x4VwgcQj",
        "outputId": "3e71333e-2ee0-451b-dc89-485d0f0e6abc"
      },
      "execution_count": 3,
      "outputs": [
        {
          "output_type": "execute_result",
          "data": {
            "text/plain": [
              "array([[ 8.64597040e+00],\n",
              "       [ 1.61054403e+01],\n",
              "       [ 1.29865924e+01],\n",
              "       [ 7.82517629e+00],\n",
              "       [ 1.14496004e+01],\n",
              "       [ 1.67096606e+01],\n",
              "       [ 1.11093034e+01],\n",
              "       [ 1.74756103e+01],\n",
              "       [ 1.71317500e+01],\n",
              "       [ 9.77773383e+00],\n",
              "       [ 1.50281469e+01],\n",
              "       [ 1.30227885e+01],\n",
              "       [ 1.17774412e+01],\n",
              "       [ 2.04652108e+01],\n",
              "       [ 2.13345396e+00],\n",
              "       [ 3.15573233e+00],\n",
              "       [ 4.25367990e-01],\n",
              "       [ 2.02241379e+01],\n",
              "       [ 1.58169592e+01],\n",
              "       [ 1.82042217e+01],\n",
              "       [ 2.33386682e+01],\n",
              "       [ 1.32876532e+01],\n",
              "       [ 6.68861725e+00],\n",
              "       [ 1.75493769e+01],\n",
              "       [ 1.92417072e-02],\n",
              "       [ 1.66856628e+01],\n",
              "       [ 2.03982779e+00],\n",
              "       [ 1.73984687e+01],\n",
              "       [ 1.42828505e+01],\n",
              "       [ 1.12542684e+01],\n",
              "       [ 9.02623016e+00],\n",
              "       [ 1.72967631e+01],\n",
              "       [ 7.40055527e+00],\n",
              "       [ 1.51888089e+01],\n",
              "       [-1.60210733e-01],\n",
              "       [ 1.39576227e+01],\n",
              "       [ 1.41364184e+01],\n",
              "       [ 1.20286598e+01],\n",
              "       [ 2.01031203e+01],\n",
              "       [ 1.54808193e+01],\n",
              "       [ 7.94300907e+00],\n",
              "       [ 6.54183749e+00],\n",
              "       [ 1.45491003e+01],\n",
              "       [ 3.85728123e+00],\n",
              "       [ 1.19461986e+01],\n",
              "       [ 1.31134883e+01],\n",
              "       [ 3.33734412e+00],\n",
              "       [ 6.27705341e+00],\n",
              "       [ 7.65315653e+00],\n",
              "       [ 8.08913909e+00],\n",
              "       [ 9.86410326e+00],\n",
              "       [ 9.85052865e+00],\n",
              "       [ 1.84188114e+01],\n",
              "       [ 2.10455733e+00],\n",
              "       [ 2.90584297e+00],\n",
              "       [ 4.57905695e+00],\n",
              "       [ 1.42153481e+01],\n",
              "       [ 4.64923454e+00],\n",
              "       [ 1.01182289e+01],\n",
              "       [ 2.70238882e+00],\n",
              "       [ 1.96876487e-01],\n",
              "       [ 3.08628623e+00],\n",
              "       [ 1.34599388e+01],\n",
              "       [ 4.03372190e+00],\n",
              "       [ 8.69793678e+00],\n",
              "       [ 9.26346239e+00],\n",
              "       [ 1.45942201e+01],\n",
              "       [ 4.17605809e+00],\n",
              "       [ 1.41270833e+01],\n",
              "       [ 9.98798948e-01],\n",
              "       [ 1.93927061e+01],\n",
              "       [ 1.27997095e+01],\n",
              "       [ 1.80457121e+01],\n",
              "       [ 1.04440333e+01],\n",
              "       [ 1.45883665e+01],\n",
              "       [-5.43200728e-01],\n",
              "       [ 7.90941110e+00],\n",
              "       [ 2.44068208e-01],\n",
              "       [ 3.62786665e+00],\n",
              "       [ 1.49891429e+00],\n",
              "       [ 5.36359869e+00],\n",
              "       [ 1.21443240e+01],\n",
              "       [ 3.18179154e+00],\n",
              "       [ 1.40245449e+01],\n",
              "       [ 8.88115805e+00],\n",
              "       [ 6.99651577e+00],\n",
              "       [ 8.46453037e+00],\n",
              "       [-1.21073198e+00],\n",
              "       [ 1.38949895e+01],\n",
              "       [ 1.92198092e+01],\n",
              "       [ 8.21309670e+00],\n",
              "       [ 1.39856629e+01],\n",
              "       [ 4.34961847e+00],\n",
              "       [ 1.30244929e+01],\n",
              "       [ 3.71963618e+00],\n",
              "       [ 5.02701628e+00],\n",
              "       [ 1.01234394e+01],\n",
              "       [-9.76948632e-01],\n",
              "       [ 1.56677356e+01],\n",
              "       [ 1.28867842e-01]])"
            ]
          },
          "metadata": {},
          "execution_count": 3
        }
      ]
    },
    {
      "cell_type": "code",
      "source": [
        "horas_estudio"
      ],
      "metadata": {
        "colab": {
          "base_uri": "https://localhost:8080/"
        },
        "id": "M9m6A4X8i1Ol",
        "outputId": "b9c645ea-c073-4c0c-f83a-0451dc7bfbca"
      },
      "execution_count": 4,
      "outputs": [
        {
          "output_type": "execute_result",
          "data": {
            "text/plain": [
              "array([[5.48813504],\n",
              "       [7.15189366],\n",
              "       [6.02763376],\n",
              "       [5.44883183],\n",
              "       [4.23654799],\n",
              "       [6.45894113],\n",
              "       [4.37587211],\n",
              "       [8.91773001],\n",
              "       [9.63662761],\n",
              "       [3.83441519],\n",
              "       [7.91725038],\n",
              "       [5.2889492 ],\n",
              "       [5.68044561],\n",
              "       [9.25596638],\n",
              "       [0.71036058],\n",
              "       [0.871293  ],\n",
              "       [0.20218397],\n",
              "       [8.32619846],\n",
              "       [7.78156751],\n",
              "       [8.70012148],\n",
              "       [9.78618342],\n",
              "       [7.99158564],\n",
              "       [4.61479362],\n",
              "       [7.80529176],\n",
              "       [1.18274426],\n",
              "       [6.39921021],\n",
              "       [1.43353287],\n",
              "       [9.44668917],\n",
              "       [5.21848322],\n",
              "       [4.1466194 ],\n",
              "       [2.64555612],\n",
              "       [7.74233689],\n",
              "       [4.56150332],\n",
              "       [5.68433949],\n",
              "       [0.187898  ],\n",
              "       [6.17635497],\n",
              "       [6.12095723],\n",
              "       [6.16933997],\n",
              "       [9.43748079],\n",
              "       [6.81820299],\n",
              "       [3.59507901],\n",
              "       [4.37031954],\n",
              "       [6.97631196],\n",
              "       [0.60225472],\n",
              "       [6.66766715],\n",
              "       [6.7063787 ],\n",
              "       [2.10382561],\n",
              "       [1.28926298],\n",
              "       [3.15428351],\n",
              "       [3.63710771],\n",
              "       [5.7019677 ],\n",
              "       [4.38601513],\n",
              "       [9.88373838],\n",
              "       [1.02044811],\n",
              "       [2.08876756],\n",
              "       [1.61309518],\n",
              "       [6.53108325],\n",
              "       [2.53291603],\n",
              "       [4.66310773],\n",
              "       [2.44425592],\n",
              "       [1.58969584],\n",
              "       [1.10375141],\n",
              "       [6.56329589],\n",
              "       [1.38182951],\n",
              "       [1.96582362],\n",
              "       [3.68725171],\n",
              "       [8.2099323 ],\n",
              "       [0.97101276],\n",
              "       [8.37944907],\n",
              "       [0.96098408],\n",
              "       [9.76459465],\n",
              "       [4.68651202],\n",
              "       [9.76761088],\n",
              "       [6.0484552 ],\n",
              "       [7.39263579],\n",
              "       [0.39187792],\n",
              "       [2.82806963],\n",
              "       [1.20196561],\n",
              "       [2.96140198],\n",
              "       [1.18727719],\n",
              "       [3.17983179],\n",
              "       [4.14262995],\n",
              "       [0.64147496],\n",
              "       [6.92472119],\n",
              "       [5.66601454],\n",
              "       [2.65389491],\n",
              "       [5.23248053],\n",
              "       [0.93940511],\n",
              "       [5.75946496],\n",
              "       [9.29296198],\n",
              "       [3.18568952],\n",
              "       [6.6741038 ],\n",
              "       [1.31797862],\n",
              "       [7.16327204],\n",
              "       [2.89406093],\n",
              "       [1.83191362],\n",
              "       [5.86512935],\n",
              "       [0.20107546],\n",
              "       [8.28940029],\n",
              "       [0.04695476]])"
            ]
          },
          "metadata": {},
          "execution_count": 4
        }
      ]
    },
    {
      "cell_type": "code",
      "source": [
        "plt.scatter(calificaciones, horas_estudio)\n",
        "plt.show()"
      ],
      "metadata": {
        "colab": {
          "base_uri": "https://localhost:8080/",
          "height": 430
        },
        "id": "jZ69RADVh8D9",
        "outputId": "d823a848-e400-4bf7-bd4d-3fd8183e6324"
      },
      "execution_count": 6,
      "outputs": [
        {
          "output_type": "display_data",
          "data": {
            "text/plain": [
              "<Figure size 640x480 with 1 Axes>"
            ],
            "image/png": "[encoded data removed]"
          },
          "metadata": {}
        }
      ]
    },
    {
      "cell_type": "code",
      "source": [
        "# Seleccionar el modelo a entrenar: Regresión lineal\n",
        "\n",
        "model = sklearn.linear_model.LinearRegression()\n"
      ],
      "metadata": {
        "id": "u-k6Cz2km4ea"
      },
      "execution_count": 8,
      "outputs": []
    },
    {
      "cell_type": "code",
      "source": [
        "# Entrenamiento de modelo de Regresión Lineal\n",
        "\n",
        "model.fit(calificaciones, horas_estudio)\n"
      ],
      "metadata": {
        "colab": {
          "base_uri": "https://localhost:8080/",
          "height": 75
        },
        "id": "8iw5BAt7m5of",
        "outputId": "98584cf6-7f29-4348-99b1-fb1bd5bc4833"
      },
      "execution_count": 9,
      "outputs": [
        {
          "output_type": "execute_result",
          "data": {
            "text/plain": [
              "LinearRegression()"
            ],
            "text/html": [
              "<style>#sk-container-id-1 {color: black;background-color: white;}#sk-container-id-1 pre{padding: 0;}#sk-container-id-1 div.sk-toggleable {background-color: white;}#sk-container-id-1 label.sk-toggleable__label {cursor: pointer;display: block;width: 100%;margin-bottom: 0;padding: 0.3em;box-sizing: border-box;text-align: center;}#sk-container-id-1 label.sk-toggleable__label-arrow:before {content: \"▸\";float: left;margin-right: 0.25em;color: #696969;}#sk-container-id-1 label.sk-toggleable__label-arrow:hover:before {color: black;}#sk-container-id-1 div.sk-estimator:hover label.sk-toggleable__label-arrow:before {color: black;}#sk-container-id-1 div.sk-toggleable__content {max-height: 0;max-width: 0;overflow: hidden;text-align: left;background-color: #f0f8ff;}#sk-container-id-1 div.sk-toggleable__content pre {margin: 0.2em;color: black;border-radius: 0.25em;background-color: #f0f8ff;}#sk-container-id-1 input.sk-toggleable__control:checked~div.sk-toggleable__content {max-height: 200px;max-width: 100%;overflow: auto;}#sk-container-id-1 input.sk-toggleable__control:checked~label.sk-toggleable__label-arrow:before {content: \"▾\";}#sk-container-id-1 div.sk-estimator input.sk-toggleable__control:checked~label.sk-toggleable__label {background-color: #d4ebff;}#sk-container-id-1 div.sk-label input.sk-toggleable__control:checked~label.sk-toggleable__label {background-color: #d4ebff;}#sk-container-id-1 input.sk-hidden--visually {border: 0;clip: rect(1px 1px 1px 1px);clip: rect(1px, 1px, 1px, 1px);height: 1px;margin: -1px;overflow: hidden;padding: 0;position: absolute;width: 1px;}#sk-container-id-1 div.sk-estimator {font-family: monospace;background-color: #f0f8ff;border: 1px dotted black;border-radius: 0.25em;box-sizing: border-box;margin-bottom: 0.5em;}#sk-container-id-1 div.sk-estimator:hover {background-color: #d4ebff;}#sk-container-id-1 div.sk-parallel-item::after {content: \"\";width: 100%;border-bottom: 1px solid gray;flex-grow: 1;}#sk-container-id-1 div.sk-label:hover label.sk-toggleable__label {background-color: #d4ebff;}#sk-container-id-1 div.sk-serial::before {content: \"\";position: absolute;border-left: 1px solid gray;box-sizing: border-box;top: 0;bottom: 0;left: 50%;z-index: 0;}#sk-container-id-1 div.sk-serial {display: flex;flex-direction: column;align-items: center;background-color: white;padding-right: 0.2em;padding-left: 0.2em;position: relative;}#sk-container-id-1 div.sk-item {position: relative;z-index: 1;}#sk-container-id-1 div.sk-parallel {display: flex;align-items: stretch;justify-content: center;background-color: white;position: relative;}#sk-container-id-1 div.sk-item::before, #sk-container-id-1 div.sk-parallel-item::before {content: \"\";position: absolute;border-left: 1px solid gray;box-sizing: border-box;top: 0;bottom: 0;left: 50%;z-index: -1;}#sk-container-id-1 div.sk-parallel-item {display: flex;flex-direction: column;z-index: 1;position: relative;background-color: white;}#sk-container-id-1 div.sk-parallel-item:first-child::after {align-self: flex-end;width: 50%;}#sk-container-id-1 div.sk-parallel-item:last-child::after {align-self: flex-start;width: 50%;}#sk-container-id-1 div.sk-parallel-item:only-child::after {width: 0;}#sk-container-id-1 div.sk-dashed-wrapped {border: 1px dashed gray;margin: 0 0.4em 0.5em 0.4em;box-sizing: border-box;padding-bottom: 0.4em;background-color: white;}#sk-container-id-1 div.sk-label label {font-family: monospace;font-weight: bold;display: inline-block;line-height: 1.2em;}#sk-container-id-1 div.sk-label-container {text-align: center;}#sk-container-id-1 div.sk-container {/* jupyter's `normalize.less` sets `[hidden] { display: none; }` but bootstrap.min.css set `[hidden] { display: none !important; }` so we also need the `!important` here to be able to override the default hidden behavior on the sphinx rendered scikit-learn.org. See: https://github.com/scikit-learn/scikit-learn/issues/21755 */display: inline-block !important;position: relative;}#sk-container-id-1 div.sk-text-repr-fallback {display: none;}</style><div id=\"sk-container-id-1\" class=\"sk-top-container\"><div class=\"sk-text-repr-fallback\"><pre>LinearRegression()</pre><b>In a Jupyter environment, please rerun this cell to show the HTML representation or trust the notebook. <br />On GitHub, the HTML representation is unable to render, please try loading this page with nbviewer.org.</b></div><div class=\"sk-container\" hidden><div class=\"sk-item\"><div class=\"sk-estimator sk-toggleable\"><input class=\"sk-toggleable__control sk-hidden--visually\" id=\"sk-estimator-id-1\" type=\"checkbox\" checked><label for=\"sk-estimator-id-1\" class=\"sk-toggleable__label sk-toggleable__label-arrow\">LinearRegression</label><div class=\"sk-toggleable__content\"><pre>LinearRegression()</pre></div></div></div></div></div>"
            ]
          },
          "metadata": {},
          "execution_count": 9
        }
      ]
    },
    {
      "cell_type": "code",
      "source": [],
      "metadata": {
        "id": "y5W_-GPAOvOi"
      },
      "execution_count": null,
      "outputs": []
    },
    {
      "cell_type": "code",
      "source": [
        "plt.scatter(calificaciones, horas_estudio, color='red')\n",
        "plt.xlabel(\"Calificaciones\")\n",
        "plt.ylabel(\"Horas Estudiadas\")\n",
        "plt.title(\"My first Linear Regression Model\")\n",
        "\n",
        "plt.plot(calificaciones, model.predict(calificaciones), color='blue')"
      ],
      "metadata": {
        "colab": {
          "base_uri": "https://localhost:8080/",
          "height": 489
        },
        "id": "vJVghkaqnccv",
        "outputId": "16b41918-d25e-4495-8e90-2380eab99ae0"
      },
      "execution_count": 10,
      "outputs": [
        {
          "output_type": "execute_result",
          "data": {
            "text/plain": [
              "[<matplotlib.lines.Line2D at 0x789cc33846d0>]"
            ]
          },
          "metadata": {},
          "execution_count": 10
        },
        {
          "output_type": "display_data",
          "data": {
            "text/plain": [
              "<Figure size 640x480 with 1 Axes>"
            ],
            "image/png": "[encoded data removed]"
          },
          "metadata": {}
        }
      ]
    }
  ]
}
